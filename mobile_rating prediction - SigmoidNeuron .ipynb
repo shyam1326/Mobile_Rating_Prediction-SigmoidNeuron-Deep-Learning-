{
 "cells": [
  {
   "cell_type": "markdown",
   "metadata": {},
   "source": [
    "# Business Case:\n",
    "   Predict whether the user likes the mobile or not and predict the rating of that mobile"
   ]
  },
  {
   "cell_type": "markdown",
   "metadata": {},
   "source": [
    "# Import the necessary Libraries"
   ]
  },
  {
   "cell_type": "code",
   "execution_count": 648,
   "metadata": {},
   "outputs": [],
   "source": [
    "import numpy as np\n",
    "import pandas as pd\n",
    "from sklearn.model_selection import train_test_split\n",
    "from sklearn.preprocessing import StandardScaler, MinMaxScaler\n",
    "import matplotlib.pyplot as plt\n",
    "%matplotlib inline\n",
    "from tqdm import tqdm_notebook\n",
    "import tqdm\n",
    "from sklearn.metrics import mean_squared_error\n",
    "from sklearn import metrics"
   ]
  },
  {
   "cell_type": "markdown",
   "metadata": {},
   "source": [
    "# Load the Dataset"
   ]
  },
  {
   "cell_type": "code",
   "execution_count": 649,
   "metadata": {},
   "outputs": [
    {
     "data": {
      "text/html": [
       "<div>\n",
       "<style scoped>\n",
       "    .dataframe tbody tr th:only-of-type {\n",
       "        vertical-align: middle;\n",
       "    }\n",
       "\n",
       "    .dataframe tbody tr th {\n",
       "        vertical-align: top;\n",
       "    }\n",
       "\n",
       "    .dataframe thead th {\n",
       "        text-align: right;\n",
       "    }\n",
       "</style>\n",
       "<table border=\"1\" class=\"dataframe\">\n",
       "  <thead>\n",
       "    <tr style=\"text-align: right;\">\n",
       "      <th></th>\n",
       "      <th>PhoneId</th>\n",
       "      <th>Pixel Density</th>\n",
       "      <th>Screen Size</th>\n",
       "      <th>Weight</th>\n",
       "      <th>RAM</th>\n",
       "      <th>Processor_frequency</th>\n",
       "      <th>Screen to Body Ratio (calculated)</th>\n",
       "      <th>Height</th>\n",
       "      <th>Internal Memory</th>\n",
       "      <th>Capacity</th>\n",
       "      <th>...</th>\n",
       "      <th>os_name_Tizen</th>\n",
       "      <th>os_name_iOS</th>\n",
       "      <th>SIM Slot(s)_Dual SIM, GSM+CDMA</th>\n",
       "      <th>SIM Slot(s)_Dual SIM, GSM+GSM</th>\n",
       "      <th>SIM Slot(s)_Dual SIM, GSM+GSM, Dual VoLTE</th>\n",
       "      <th>SIM Slot(s)_Single SIM, GSM</th>\n",
       "      <th>Sim1_2G</th>\n",
       "      <th>Sim1_3G</th>\n",
       "      <th>Sim1_4G</th>\n",
       "      <th>Rating</th>\n",
       "    </tr>\n",
       "  </thead>\n",
       "  <tbody>\n",
       "    <tr>\n",
       "      <th>0</th>\n",
       "      <td>0</td>\n",
       "      <td>403</td>\n",
       "      <td>6.26</td>\n",
       "      <td>182</td>\n",
       "      <td>4</td>\n",
       "      <td>1.8</td>\n",
       "      <td>80.68</td>\n",
       "      <td>157.9</td>\n",
       "      <td>64</td>\n",
       "      <td>4000</td>\n",
       "      <td>...</td>\n",
       "      <td>0</td>\n",
       "      <td>0</td>\n",
       "      <td>0</td>\n",
       "      <td>0</td>\n",
       "      <td>1</td>\n",
       "      <td>0</td>\n",
       "      <td>0</td>\n",
       "      <td>0</td>\n",
       "      <td>1</td>\n",
       "      <td>4.5</td>\n",
       "    </tr>\n",
       "    <tr>\n",
       "      <th>1</th>\n",
       "      <td>1</td>\n",
       "      <td>271</td>\n",
       "      <td>6.20</td>\n",
       "      <td>168</td>\n",
       "      <td>3</td>\n",
       "      <td>1.8</td>\n",
       "      <td>80.85</td>\n",
       "      <td>156.2</td>\n",
       "      <td>32</td>\n",
       "      <td>4230</td>\n",
       "      <td>...</td>\n",
       "      <td>0</td>\n",
       "      <td>0</td>\n",
       "      <td>0</td>\n",
       "      <td>0</td>\n",
       "      <td>1</td>\n",
       "      <td>0</td>\n",
       "      <td>0</td>\n",
       "      <td>0</td>\n",
       "      <td>1</td>\n",
       "      <td>4.5</td>\n",
       "    </tr>\n",
       "    <tr>\n",
       "      <th>2</th>\n",
       "      <td>2</td>\n",
       "      <td>409</td>\n",
       "      <td>6.30</td>\n",
       "      <td>168</td>\n",
       "      <td>3</td>\n",
       "      <td>2.1</td>\n",
       "      <td>83.68</td>\n",
       "      <td>157.0</td>\n",
       "      <td>32</td>\n",
       "      <td>3500</td>\n",
       "      <td>...</td>\n",
       "      <td>0</td>\n",
       "      <td>0</td>\n",
       "      <td>0</td>\n",
       "      <td>0</td>\n",
       "      <td>1</td>\n",
       "      <td>0</td>\n",
       "      <td>0</td>\n",
       "      <td>0</td>\n",
       "      <td>1</td>\n",
       "      <td>4.4</td>\n",
       "    </tr>\n",
       "    <tr>\n",
       "      <th>3</th>\n",
       "      <td>4</td>\n",
       "      <td>411</td>\n",
       "      <td>6.00</td>\n",
       "      <td>169</td>\n",
       "      <td>4</td>\n",
       "      <td>2.2</td>\n",
       "      <td>74.78</td>\n",
       "      <td>159.8</td>\n",
       "      <td>64</td>\n",
       "      <td>3300</td>\n",
       "      <td>...</td>\n",
       "      <td>0</td>\n",
       "      <td>0</td>\n",
       "      <td>0</td>\n",
       "      <td>1</td>\n",
       "      <td>0</td>\n",
       "      <td>0</td>\n",
       "      <td>0</td>\n",
       "      <td>0</td>\n",
       "      <td>1</td>\n",
       "      <td>4.3</td>\n",
       "    </tr>\n",
       "    <tr>\n",
       "      <th>4</th>\n",
       "      <td>5</td>\n",
       "      <td>396</td>\n",
       "      <td>6.50</td>\n",
       "      <td>175</td>\n",
       "      <td>4</td>\n",
       "      <td>2.2</td>\n",
       "      <td>84.23</td>\n",
       "      <td>160.4</td>\n",
       "      <td>64</td>\n",
       "      <td>3750</td>\n",
       "      <td>...</td>\n",
       "      <td>0</td>\n",
       "      <td>0</td>\n",
       "      <td>0</td>\n",
       "      <td>0</td>\n",
       "      <td>1</td>\n",
       "      <td>0</td>\n",
       "      <td>0</td>\n",
       "      <td>0</td>\n",
       "      <td>1</td>\n",
       "      <td>4.4</td>\n",
       "    </tr>\n",
       "  </tbody>\n",
       "</table>\n",
       "<p>5 rows × 88 columns</p>\n",
       "</div>"
      ],
      "text/plain": [
       "   PhoneId  Pixel Density  Screen Size  Weight  RAM  Processor_frequency  \\\n",
       "0        0            403         6.26     182    4                  1.8   \n",
       "1        1            271         6.20     168    3                  1.8   \n",
       "2        2            409         6.30     168    3                  2.1   \n",
       "3        4            411         6.00     169    4                  2.2   \n",
       "4        5            396         6.50     175    4                  2.2   \n",
       "\n",
       "   Screen to Body Ratio (calculated)  Height  Internal Memory  Capacity  ...  \\\n",
       "0                              80.68   157.9               64      4000  ...   \n",
       "1                              80.85   156.2               32      4230  ...   \n",
       "2                              83.68   157.0               32      3500  ...   \n",
       "3                              74.78   159.8               64      3300  ...   \n",
       "4                              84.23   160.4               64      3750  ...   \n",
       "\n",
       "   os_name_Tizen  os_name_iOS  SIM Slot(s)_Dual SIM, GSM+CDMA  \\\n",
       "0              0            0                               0   \n",
       "1              0            0                               0   \n",
       "2              0            0                               0   \n",
       "3              0            0                               0   \n",
       "4              0            0                               0   \n",
       "\n",
       "   SIM Slot(s)_Dual SIM, GSM+GSM  SIM Slot(s)_Dual SIM, GSM+GSM, Dual VoLTE  \\\n",
       "0                              0                                          1   \n",
       "1                              0                                          1   \n",
       "2                              0                                          1   \n",
       "3                              1                                          0   \n",
       "4                              0                                          1   \n",
       "\n",
       "   SIM Slot(s)_Single SIM, GSM  Sim1_2G  Sim1_3G  Sim1_4G  Rating  \n",
       "0                            0        0        0        1     4.5  \n",
       "1                            0        0        0        1     4.5  \n",
       "2                            0        0        0        1     4.4  \n",
       "3                            0        0        0        1     4.3  \n",
       "4                            0        0        0        1     4.4  \n",
       "\n",
       "[5 rows x 88 columns]"
      ]
     },
     "execution_count": 649,
     "metadata": {},
     "output_type": "execute_result"
    }
   ],
   "source": [
    "df = pd.read_csv('mobile_cleaned.csv')\n",
    "df.head()"
   ]
  },
  {
   "cell_type": "code",
   "execution_count": 650,
   "metadata": {
    "scrolled": true
   },
   "outputs": [
    {
     "name": "stdout",
     "output_type": "stream",
     "text": [
      "<class 'pandas.core.frame.DataFrame'>\n",
      "RangeIndex: 341 entries, 0 to 340\n",
      "Data columns (total 88 columns):\n",
      " #   Column                                     Non-Null Count  Dtype  \n",
      "---  ------                                     --------------  -----  \n",
      " 0   PhoneId                                    341 non-null    int64  \n",
      " 1   Pixel Density                              341 non-null    int64  \n",
      " 2   Screen Size                                341 non-null    float64\n",
      " 3   Weight                                     341 non-null    int64  \n",
      " 4   RAM                                        341 non-null    int64  \n",
      " 5   Processor_frequency                        341 non-null    float64\n",
      " 6   Screen to Body Ratio (calculated)          341 non-null    float64\n",
      " 7   Height                                     341 non-null    float64\n",
      " 8   Internal Memory                            341 non-null    int64  \n",
      " 9   Capacity                                   341 non-null    int64  \n",
      " 10  Resolution                                 341 non-null    int64  \n",
      " 11  SIM 2_2G                                   341 non-null    int64  \n",
      " 12  SIM 2_3G                                   341 non-null    int64  \n",
      " 13  SIM 2_4G                                   341 non-null    int64  \n",
      " 14  SIM 2_Other                                341 non-null    int64  \n",
      " 15  Num_cores_312                              341 non-null    int64  \n",
      " 16  Num_cores_Deca                             341 non-null    int64  \n",
      " 17  Num_cores_Dual                             341 non-null    int64  \n",
      " 18  Num_cores_Hexa                             341 non-null    int64  \n",
      " 19  Num_cores_Octa                             341 non-null    int64  \n",
      " 20  Num_cores_Other                            341 non-null    int64  \n",
      " 21  Num_cores_Quad                             341 non-null    int64  \n",
      " 22  Num_cores_Tru-Octa                         341 non-null    int64  \n",
      " 23  Brand_10.or                                341 non-null    int64  \n",
      " 24  Brand_Apple                                341 non-null    int64  \n",
      " 25  Brand_Asus                                 341 non-null    int64  \n",
      " 26  Brand_Billion                              341 non-null    int64  \n",
      " 27  Brand_Blackberry                           341 non-null    int64  \n",
      " 28  Brand_Comio                                341 non-null    int64  \n",
      " 29  Brand_Coolpad                              341 non-null    int64  \n",
      " 30  Brand_Do                                   341 non-null    int64  \n",
      " 31  Brand_Gionee                               341 non-null    int64  \n",
      " 32  Brand_Google                               341 non-null    int64  \n",
      " 33  Brand_HTC                                  341 non-null    int64  \n",
      " 34  Brand_Honor                                341 non-null    int64  \n",
      " 35  Brand_Huawei                               341 non-null    int64  \n",
      " 36  Brand_InFocus                              341 non-null    int64  \n",
      " 37  Brand_Infinix                              341 non-null    int64  \n",
      " 38  Brand_Intex                                341 non-null    int64  \n",
      " 39  Brand_Itel                                 341 non-null    int64  \n",
      " 40  Brand_Jivi                                 341 non-null    int64  \n",
      " 41  Brand_Karbonn                              341 non-null    int64  \n",
      " 42  Brand_LG                                   341 non-null    int64  \n",
      " 43  Brand_Lava                                 341 non-null    int64  \n",
      " 44  Brand_LeEco                                341 non-null    int64  \n",
      " 45  Brand_Lenovo                               341 non-null    int64  \n",
      " 46  Brand_Lephone                              341 non-null    int64  \n",
      " 47  Brand_Lyf                                  341 non-null    int64  \n",
      " 48  Brand_Meizu                                341 non-null    int64  \n",
      " 49  Brand_Micromax                             341 non-null    int64  \n",
      " 50  Brand_Mobiistar                            341 non-null    int64  \n",
      " 51  Brand_Moto                                 341 non-null    int64  \n",
      " 52  Brand_Motorola                             341 non-null    int64  \n",
      " 53  Brand_Nokia                                341 non-null    int64  \n",
      " 54  Brand_Nubia                                341 non-null    int64  \n",
      " 55  Brand_OPPO                                 341 non-null    int64  \n",
      " 56  Brand_OnePlus                              341 non-null    int64  \n",
      " 57  Brand_Oppo                                 341 non-null    int64  \n",
      " 58  Brand_Panasonic                            341 non-null    int64  \n",
      " 59  Brand_Razer                                341 non-null    int64  \n",
      " 60  Brand_Realme                               341 non-null    int64  \n",
      " 61  Brand_Reliance                             341 non-null    int64  \n",
      " 62  Brand_Samsung                              341 non-null    int64  \n",
      " 63  Brand_Sony                                 341 non-null    int64  \n",
      " 64  Brand_Spice                                341 non-null    int64  \n",
      " 65  Brand_Tecno                                341 non-null    int64  \n",
      " 66  Brand_Ulefone                              341 non-null    int64  \n",
      " 67  Brand_VOTO                                 341 non-null    int64  \n",
      " 68  Brand_Vivo                                 341 non-null    int64  \n",
      " 69  Brand_Xiaomi                               341 non-null    int64  \n",
      " 70  Brand_Xiaomi Poco                          341 non-null    int64  \n",
      " 71  Brand_Yu                                   341 non-null    int64  \n",
      " 72  Brand_iVooMi                               341 non-null    int64  \n",
      " 73  os_name_Android                            341 non-null    int64  \n",
      " 74  os_name_Blackberry                         341 non-null    int64  \n",
      " 75  os_name_KAI                                341 non-null    int64  \n",
      " 76  os_name_Nokia                              341 non-null    int64  \n",
      " 77  os_name_Other                              341 non-null    int64  \n",
      " 78  os_name_Tizen                              341 non-null    int64  \n",
      " 79  os_name_iOS                                341 non-null    int64  \n",
      " 80  SIM Slot(s)_Dual SIM, GSM+CDMA             341 non-null    int64  \n",
      " 81  SIM Slot(s)_Dual SIM, GSM+GSM              341 non-null    int64  \n",
      " 82  SIM Slot(s)_Dual SIM, GSM+GSM, Dual VoLTE  341 non-null    int64  \n",
      " 83  SIM Slot(s)_Single SIM, GSM                341 non-null    int64  \n",
      " 84  Sim1_2G                                    341 non-null    int64  \n",
      " 85  Sim1_3G                                    341 non-null    int64  \n",
      " 86  Sim1_4G                                    341 non-null    int64  \n",
      " 87  Rating                                     341 non-null    float64\n",
      "dtypes: float64(5), int64(83)\n",
      "memory usage: 234.6 KB\n"
     ]
    }
   ],
   "source": [
    "df.info()"
   ]
  },
  {
   "cell_type": "code",
   "execution_count": 651,
   "metadata": {},
   "outputs": [
    {
     "data": {
      "text/plain": [
       "(341, 88)"
      ]
     },
     "execution_count": 651,
     "metadata": {},
     "output_type": "execute_result"
    }
   ],
   "source": [
    "df.shape"
   ]
  },
  {
   "cell_type": "code",
   "execution_count": 652,
   "metadata": {},
   "outputs": [
    {
     "data": {
      "text/plain": [
       "4.3    44\n",
       "4.1    41\n",
       "4.4    41\n",
       "4.0    38\n",
       "4.2    33\n",
       "3.9    29\n",
       "4.5    25\n",
       "3.8    16\n",
       "3.7    14\n",
       "3.4    11\n",
       "4.6    10\n",
       "3.5    10\n",
       "3.6     8\n",
       "3.3     5\n",
       "3.0     4\n",
       "2.8     2\n",
       "4.8     2\n",
       "5.0     2\n",
       "3.1     2\n",
       "4.7     2\n",
       "3.2     1\n",
       "2.5     1\n",
       "Name: Rating, dtype: int64"
      ]
     },
     "execution_count": 652,
     "metadata": {},
     "output_type": "execute_result"
    }
   ],
   "source": [
    "df.Rating.value_counts()"
   ]
  },
  {
   "cell_type": "markdown",
   "metadata": {},
   "source": [
    "# Regression case (Rating):"
   ]
  },
  {
   "cell_type": "code",
   "execution_count": 119,
   "metadata": {},
   "outputs": [],
   "source": [
    "x = df[df.columns.difference(['Rating'])]\n",
    "y = df['Rating']"
   ]
  },
  {
   "cell_type": "markdown",
   "metadata": {},
   "source": [
    "# Split the data"
   ]
  },
  {
   "cell_type": "code",
   "execution_count": 120,
   "metadata": {},
   "outputs": [],
   "source": [
    "x_train, x_test, y_train, y_test = train_test_split(x,y, test_size = 0.2, random_state = 123)"
   ]
  },
  {
   "cell_type": "code",
   "execution_count": 121,
   "metadata": {},
   "outputs": [
    {
     "name": "stdout",
     "output_type": "stream",
     "text": [
      "(341, 87) (272, 87) (69, 87) (272,) (69,)\n"
     ]
    }
   ],
   "source": [
    "print(x.shape, x_train.shape, x_test.shape, y_train.shape, y_test.shape)"
   ]
  },
  {
   "cell_type": "markdown",
   "metadata": {},
   "source": [
    "# Standardise the data"
   ]
  },
  {
   "cell_type": "code",
   "execution_count": 122,
   "metadata": {},
   "outputs": [],
   "source": [
    "sc = StandardScaler()\n",
    "x_scaled_train = sc.fit_transform(x_train)\n",
    "x_scaled_test = sc.transform(x_test)"
   ]
  },
  {
   "cell_type": "code",
   "execution_count": 123,
   "metadata": {},
   "outputs": [],
   "source": [
    "minmax = MinMaxScaler()\n",
    "y_scaled_train = minmax.fit_transform(y_train.values.reshape(-1,1))\n",
    "y_scaled_test = minmax.transform(y_test.values.reshape(-1,1))"
   ]
  },
  {
   "cell_type": "markdown",
   "metadata": {},
   "source": [
    "# Sigmoid Neuron Class"
   ]
  },
  {
   "cell_type": "code",
   "execution_count": 244,
   "metadata": {},
   "outputs": [],
   "source": [
    "class SigmoidNeuron:\n",
    "    def __init__(self):\n",
    "        self.w = None\n",
    "        self.b = None\n",
    "        \n",
    "    def perceptron(self,x):\n",
    "        return np.dot(x, self.w.T)+ self.b\n",
    "    \n",
    "    def sigmoid(self,x):\n",
    "        return 1.0/(1.0 + np.exp(-x))\n",
    "    \n",
    "    def grad_w(self,x, y):\n",
    "        y_pred = self.sigmoid(self.perceptron(x))\n",
    "        return(y_pred - y)* y_pred * (1 - y_pred)* x\n",
    "    \n",
    "    def grad_b(self,x,y):\n",
    "        y_pred = self.sigmoid(self.perceptron(x))\n",
    "        return(y_pred - y)* y_pred * (1 - y_pred)\n",
    "    \n",
    "    def fit(self, x, y, epochs = 1, learning_rate = 1, initialise = True, display_loss = False):\n",
    "        \n",
    "        if initialise:\n",
    "            self.w = np.random.randn(1, x.shape[1])\n",
    "            self.b = 0\n",
    "            \n",
    "        if display_loss:\n",
    "            loss = {}\n",
    "        \n",
    "        for i in tqdm.notebook.tqdm(range(epochs), total = epochs, unit = 'epoch'):\n",
    "            dw = 0\n",
    "            db = 0\n",
    "            for x1, y1 in zip(x,y):\n",
    "                dw += self.grad_w(x1,y1)\n",
    "                db += self.grad_b(x1,y1)\n",
    "            self.w -= learning_rate * dw\n",
    "            self.b -= learning_rate * db\n",
    "            \n",
    "            if display_loss:\n",
    "                y_pred = self.sigmoid(self.perceptron(x))\n",
    "                loss[i] = mean_squared_error(y_pred,y)\n",
    "\n",
    "        if display_loss:\n",
    "            plt.plot(list(loss.values()))\n",
    "            plt.xlabel('Epochs')\n",
    "            plt.ylabel('MSE')\n",
    "            plt.show()\n",
    "        \n",
    "                \n",
    "    def predict(self, x):\n",
    "        y_pred = []\n",
    "        for x1 in x:\n",
    "            y = self.sigmoid(self.perceptron(x1))\n",
    "            y_pred.append(y)\n",
    "        return np.array(y_pred)"
   ]
  },
  {
   "cell_type": "code",
   "execution_count": 685,
   "metadata": {},
   "outputs": [
    {
     "data": {
      "application/vnd.jupyter.widget-view+json": {
       "model_id": "2b757e8b4acb438086ac15d0514f4b42",
       "version_major": 2,
       "version_minor": 0
      },
      "text/plain": [
       "HBox(children=(FloatProgress(value=0.0, max=2000.0), HTML(value='')))"
      ]
     },
     "metadata": {},
     "output_type": "display_data"
    },
    {
     "name": "stdout",
     "output_type": "stream",
     "text": [
      "\n"
     ]
    },
    {
     "data": {
      "image/png": "[encoded data removed]",
      "text/plain": [
       "<Figure size 432x288 with 1 Axes>"
      ]
     },
     "metadata": {
      "needs_background": "light"
     },
     "output_type": "display_data"
    }
   ],
   "source": [
    "sn = SigmoidNeuron()\n",
    "sn.fit(x_scaled_train, y_scaled_train, epochs = 2000, learning_rate = 0.015, display_loss = True)"
   ]
  },
  {
   "cell_type": "code",
   "execution_count": 686,
   "metadata": {},
   "outputs": [],
   "source": [
    "y_pred_train = sn.predict(x_scaled_train)\n",
    "y_pred_test = sn.predict(x_scaled_test)"
   ]
  },
  {
   "cell_type": "code",
   "execution_count": 690,
   "metadata": {},
   "outputs": [
    {
     "data": {
      "text/plain": [
       "array([[7.04017949e-01],\n",
       "       [4.52561008e-01],\n",
       "       [3.73706517e-01],\n",
       "       [7.73310605e-01],\n",
       "       [7.50293938e-01],\n",
       "       [6.09785263e-01],\n",
       "       [4.49943107e-01],\n",
       "       [9.99991757e-01],\n",
       "       [8.16556475e-01],\n",
       "       [8.30218990e-06],\n",
       "       [5.39758215e-01],\n",
       "       [5.97233298e-01],\n",
       "       [7.06474986e-01],\n",
       "       [5.23536964e-01],\n",
       "       [9.99993751e-01],\n",
       "       [5.44542711e-01],\n",
       "       [7.23063065e-01],\n",
       "       [8.18062128e-01],\n",
       "       [4.89680197e-07],\n",
       "       [7.90285191e-07],\n",
       "       [5.52350263e-01],\n",
       "       [6.00244808e-01],\n",
       "       [5.24541715e-01],\n",
       "       [7.87132729e-01],\n",
       "       [5.49681021e-01],\n",
       "       [7.45523128e-01],\n",
       "       [5.84932145e-01],\n",
       "       [5.42014290e-01],\n",
       "       [9.99938266e-01],\n",
       "       [7.71058422e-01],\n",
       "       [9.99992114e-01],\n",
       "       [7.30711541e-01],\n",
       "       [9.99999904e-01],\n",
       "       [2.13185148e-05],\n",
       "       [5.89526388e-01],\n",
       "       [6.74164589e-01],\n",
       "       [4.62133064e-01],\n",
       "       [6.39619408e-01],\n",
       "       [6.30512129e-01],\n",
       "       [5.99534375e-01],\n",
       "       [6.49021749e-01],\n",
       "       [7.04723008e-01],\n",
       "       [9.99999958e-01],\n",
       "       [1.92932854e-07],\n",
       "       [5.42169150e-01],\n",
       "       [4.70343684e-01],\n",
       "       [7.16518815e-01],\n",
       "       [8.63377873e-06],\n",
       "       [4.62519788e-01],\n",
       "       [4.67459749e-01],\n",
       "       [7.28333746e-01],\n",
       "       [7.23366851e-01],\n",
       "       [5.85773076e-01],\n",
       "       [5.27256305e-01],\n",
       "       [5.99958825e-01],\n",
       "       [5.90911432e-01],\n",
       "       [7.64933756e-01],\n",
       "       [4.25777725e-05],\n",
       "       [2.17401765e-05],\n",
       "       [5.55821996e-01],\n",
       "       [5.16560530e-01],\n",
       "       [6.12996014e-01],\n",
       "       [7.19433778e-01],\n",
       "       [5.34677245e-01],\n",
       "       [7.39305299e-07],\n",
       "       [1.88765480e-09],\n",
       "       [6.23011216e-01],\n",
       "       [4.71633603e-01],\n",
       "       [7.78557827e-07],\n",
       "       [9.99999954e-01],\n",
       "       [5.87174405e-01],\n",
       "       [5.53574702e-01],\n",
       "       [7.16428288e-01],\n",
       "       [7.29357143e-01],\n",
       "       [9.99991304e-01],\n",
       "       [7.38674698e-01],\n",
       "       [7.19592507e-01],\n",
       "       [5.46994065e-01],\n",
       "       [9.99972883e-01],\n",
       "       [7.66968656e-01],\n",
       "       [5.85615516e-01],\n",
       "       [5.71727039e-01],\n",
       "       [9.99999518e-01],\n",
       "       [7.20289390e-01],\n",
       "       [7.28917029e-01],\n",
       "       [9.99999540e-01],\n",
       "       [5.40282105e-01],\n",
       "       [4.31481017e-05],\n",
       "       [3.20036305e-01],\n",
       "       [5.69513644e-01],\n",
       "       [5.59208009e-01],\n",
       "       [7.64660507e-01],\n",
       "       [1.48476538e-13],\n",
       "       [9.99993092e-01],\n",
       "       [7.75164395e-01],\n",
       "       [5.71169179e-01],\n",
       "       [5.94541707e-01],\n",
       "       [1.61694277e-08],\n",
       "       [6.99355084e-01],\n",
       "       [6.52615367e-01],\n",
       "       [4.80063525e-01],\n",
       "       [3.00538333e-01],\n",
       "       [5.29653483e-01],\n",
       "       [7.13101471e-01],\n",
       "       [5.51512903e-01],\n",
       "       [5.62654988e-01],\n",
       "       [6.93374818e-01],\n",
       "       [9.99950352e-01],\n",
       "       [7.58905623e-01],\n",
       "       [9.99975402e-01],\n",
       "       [4.18688388e-01],\n",
       "       [5.33344736e-01],\n",
       "       [7.28988408e-01],\n",
       "       [5.16929668e-01],\n",
       "       [7.94335404e-01],\n",
       "       [6.01246617e-01],\n",
       "       [7.12340280e-01],\n",
       "       [7.55650337e-01],\n",
       "       [9.99993126e-01],\n",
       "       [9.99988247e-01],\n",
       "       [7.37643095e-01],\n",
       "       [7.93913478e-06],\n",
       "       [6.64267317e-01],\n",
       "       [1.46356545e-07],\n",
       "       [9.99996320e-01],\n",
       "       [5.72264826e-01],\n",
       "       [5.59336388e-01],\n",
       "       [3.70906953e-01],\n",
       "       [5.81648367e-01],\n",
       "       [7.84229143e-01],\n",
       "       [7.56801852e-01],\n",
       "       [7.20861244e-01],\n",
       "       [5.48711084e-01],\n",
       "       [7.41674861e-01],\n",
       "       [9.99991026e-01],\n",
       "       [5.23222548e-01],\n",
       "       [7.19158486e-01],\n",
       "       [7.65371154e-01],\n",
       "       [9.99991617e-01],\n",
       "       [3.86542140e-01],\n",
       "       [5.64109016e-01],\n",
       "       [8.45062028e-07],\n",
       "       [7.22780006e-01],\n",
       "       [4.91320374e-01],\n",
       "       [9.99989183e-01],\n",
       "       [9.99991027e-01],\n",
       "       [7.84253722e-01],\n",
       "       [7.41025285e-01],\n",
       "       [5.89678083e-01],\n",
       "       [5.83508930e-01],\n",
       "       [3.60760302e-01],\n",
       "       [7.48782127e-01],\n",
       "       [4.95177968e-05],\n",
       "       [5.70115310e-01],\n",
       "       [5.90853966e-01],\n",
       "       [6.64004704e-01],\n",
       "       [7.20040304e-01],\n",
       "       [5.84662708e-01],\n",
       "       [7.44994005e-01],\n",
       "       [5.74906248e-01],\n",
       "       [5.88220649e-01],\n",
       "       [3.12435943e-01],\n",
       "       [3.14910547e-01],\n",
       "       [5.41217253e-01],\n",
       "       [6.14072622e-01],\n",
       "       [4.05446555e-07],\n",
       "       [7.19627385e-01],\n",
       "       [9.99991393e-01],\n",
       "       [1.76799397e-08],\n",
       "       [9.99943812e-01],\n",
       "       [6.87395558e-07],\n",
       "       [9.99947295e-01],\n",
       "       [7.50381976e-01],\n",
       "       [7.62984509e-01],\n",
       "       [9.99986285e-01],\n",
       "       [5.24101540e-01],\n",
       "       [9.99995550e-01],\n",
       "       [7.40565163e-01],\n",
       "       [3.60713084e-01],\n",
       "       [9.99996244e-01],\n",
       "       [4.82218189e-01],\n",
       "       [5.74557781e-01],\n",
       "       [7.19968490e-01],\n",
       "       [5.91442371e-01],\n",
       "       [3.95433223e-01],\n",
       "       [5.17784308e-01],\n",
       "       [9.99991675e-01],\n",
       "       [3.19134208e-08],\n",
       "       [9.99932064e-01],\n",
       "       [7.20757229e-01],\n",
       "       [5.95959938e-01],\n",
       "       [9.99974655e-01],\n",
       "       [5.33666330e-01],\n",
       "       [9.99991170e-01],\n",
       "       [7.27407823e-01],\n",
       "       [7.20056754e-01],\n",
       "       [7.56665846e-01],\n",
       "       [3.83074839e-06],\n",
       "       [7.60613548e-01],\n",
       "       [6.98344648e-01],\n",
       "       [9.99992345e-01],\n",
       "       [5.76261256e-01],\n",
       "       [4.94773134e-01],\n",
       "       [7.23349602e-01],\n",
       "       [7.35888661e-01],\n",
       "       [2.17226484e-08],\n",
       "       [7.16173753e-01],\n",
       "       [4.24532683e-01],\n",
       "       [5.39932381e-01],\n",
       "       [7.14270917e-01],\n",
       "       [3.52369848e-12],\n",
       "       [7.70837317e-01],\n",
       "       [9.99873698e-01],\n",
       "       [9.99996525e-01],\n",
       "       [5.60505818e-01],\n",
       "       [9.99999951e-01],\n",
       "       [5.40199025e-01],\n",
       "       [3.86989883e-01],\n",
       "       [5.94779799e-07],\n",
       "       [2.87184005e-13],\n",
       "       [9.99990798e-01],\n",
       "       [9.99992632e-01],\n",
       "       [9.99944037e-01],\n",
       "       [6.51046127e-01],\n",
       "       [7.71037265e-01],\n",
       "       [4.51080791e-05],\n",
       "       [9.99992154e-01],\n",
       "       [7.32690684e-01],\n",
       "       [7.74741566e-01],\n",
       "       [7.45885257e-01],\n",
       "       [6.23629001e-01],\n",
       "       [5.85618440e-01],\n",
       "       [5.92319355e-01],\n",
       "       [5.70831758e-01],\n",
       "       [5.81579137e-01],\n",
       "       [4.83054644e-01],\n",
       "       [5.56783224e-01],\n",
       "       [9.99985460e-01],\n",
       "       [7.30308589e-01],\n",
       "       [5.63367084e-01],\n",
       "       [7.13409398e-01],\n",
       "       [9.99992687e-01],\n",
       "       [7.15890664e-01],\n",
       "       [7.02440463e-01],\n",
       "       [6.15376309e-01],\n",
       "       [9.99991697e-01],\n",
       "       [7.50697908e-01],\n",
       "       [7.24878064e-01],\n",
       "       [7.81339816e-01],\n",
       "       [9.99974169e-01],\n",
       "       [9.99949298e-01],\n",
       "       [7.48721889e-01],\n",
       "       [1.55123353e-05],\n",
       "       [7.56302141e-01],\n",
       "       [5.47813323e-01]])"
      ]
     },
     "execution_count": 690,
     "metadata": {},
     "output_type": "execute_result"
    }
   ],
   "source": [
    "y_pred_train"
   ]
  },
  {
   "cell_type": "markdown",
   "metadata": {},
   "source": [
    "> We know the accuracy of the model is high, because we know that loss is very low "
   ]
  },
  {
   "cell_type": "markdown",
   "metadata": {},
   "source": [
    "# Classification Case (class)"
   ]
  },
  {
   "cell_type": "code",
   "execution_count": 653,
   "metadata": {},
   "outputs": [],
   "source": [
    "threshold = 4.2"
   ]
  },
  {
   "cell_type": "code",
   "execution_count": 654,
   "metadata": {},
   "outputs": [
    {
     "data": {
      "text/plain": [
       "0    182\n",
       "1    159\n",
       "Name: Rating, dtype: int64"
      ]
     },
     "execution_count": 654,
     "metadata": {},
     "output_type": "execute_result"
    }
   ],
   "source": [
    "(df['Rating']>= threshold ).astype('int').value_counts()"
   ]
  },
  {
   "cell_type": "markdown",
   "metadata": {},
   "source": [
    "> The data should be balanced, according to that we need to change the threshold value"
   ]
  },
  {
   "cell_type": "code",
   "execution_count": 655,
   "metadata": {},
   "outputs": [],
   "source": [
    "df['Class'] = (df['Rating']>= threshold).astype('int')"
   ]
  },
  {
   "cell_type": "code",
   "execution_count": 656,
   "metadata": {},
   "outputs": [
    {
     "data": {
      "text/html": [
       "<div>\n",
       "<style scoped>\n",
       "    .dataframe tbody tr th:only-of-type {\n",
       "        vertical-align: middle;\n",
       "    }\n",
       "\n",
       "    .dataframe tbody tr th {\n",
       "        vertical-align: top;\n",
       "    }\n",
       "\n",
       "    .dataframe thead th {\n",
       "        text-align: right;\n",
       "    }\n",
       "</style>\n",
       "<table border=\"1\" class=\"dataframe\">\n",
       "  <thead>\n",
       "    <tr style=\"text-align: right;\">\n",
       "      <th></th>\n",
       "      <th>PhoneId</th>\n",
       "      <th>Pixel Density</th>\n",
       "      <th>Screen Size</th>\n",
       "      <th>Weight</th>\n",
       "      <th>RAM</th>\n",
       "      <th>Processor_frequency</th>\n",
       "      <th>Screen to Body Ratio (calculated)</th>\n",
       "      <th>Height</th>\n",
       "      <th>Internal Memory</th>\n",
       "      <th>Capacity</th>\n",
       "      <th>...</th>\n",
       "      <th>os_name_iOS</th>\n",
       "      <th>SIM Slot(s)_Dual SIM, GSM+CDMA</th>\n",
       "      <th>SIM Slot(s)_Dual SIM, GSM+GSM</th>\n",
       "      <th>SIM Slot(s)_Dual SIM, GSM+GSM, Dual VoLTE</th>\n",
       "      <th>SIM Slot(s)_Single SIM, GSM</th>\n",
       "      <th>Sim1_2G</th>\n",
       "      <th>Sim1_3G</th>\n",
       "      <th>Sim1_4G</th>\n",
       "      <th>Rating</th>\n",
       "      <th>Class</th>\n",
       "    </tr>\n",
       "  </thead>\n",
       "  <tbody>\n",
       "    <tr>\n",
       "      <th>0</th>\n",
       "      <td>0</td>\n",
       "      <td>403</td>\n",
       "      <td>6.26</td>\n",
       "      <td>182</td>\n",
       "      <td>4</td>\n",
       "      <td>1.8</td>\n",
       "      <td>80.68</td>\n",
       "      <td>157.9</td>\n",
       "      <td>64</td>\n",
       "      <td>4000</td>\n",
       "      <td>...</td>\n",
       "      <td>0</td>\n",
       "      <td>0</td>\n",
       "      <td>0</td>\n",
       "      <td>1</td>\n",
       "      <td>0</td>\n",
       "      <td>0</td>\n",
       "      <td>0</td>\n",
       "      <td>1</td>\n",
       "      <td>4.5</td>\n",
       "      <td>1</td>\n",
       "    </tr>\n",
       "    <tr>\n",
       "      <th>1</th>\n",
       "      <td>1</td>\n",
       "      <td>271</td>\n",
       "      <td>6.20</td>\n",
       "      <td>168</td>\n",
       "      <td>3</td>\n",
       "      <td>1.8</td>\n",
       "      <td>80.85</td>\n",
       "      <td>156.2</td>\n",
       "      <td>32</td>\n",
       "      <td>4230</td>\n",
       "      <td>...</td>\n",
       "      <td>0</td>\n",
       "      <td>0</td>\n",
       "      <td>0</td>\n",
       "      <td>1</td>\n",
       "      <td>0</td>\n",
       "      <td>0</td>\n",
       "      <td>0</td>\n",
       "      <td>1</td>\n",
       "      <td>4.5</td>\n",
       "      <td>1</td>\n",
       "    </tr>\n",
       "    <tr>\n",
       "      <th>2</th>\n",
       "      <td>2</td>\n",
       "      <td>409</td>\n",
       "      <td>6.30</td>\n",
       "      <td>168</td>\n",
       "      <td>3</td>\n",
       "      <td>2.1</td>\n",
       "      <td>83.68</td>\n",
       "      <td>157.0</td>\n",
       "      <td>32</td>\n",
       "      <td>3500</td>\n",
       "      <td>...</td>\n",
       "      <td>0</td>\n",
       "      <td>0</td>\n",
       "      <td>0</td>\n",
       "      <td>1</td>\n",
       "      <td>0</td>\n",
       "      <td>0</td>\n",
       "      <td>0</td>\n",
       "      <td>1</td>\n",
       "      <td>4.4</td>\n",
       "      <td>1</td>\n",
       "    </tr>\n",
       "    <tr>\n",
       "      <th>3</th>\n",
       "      <td>4</td>\n",
       "      <td>411</td>\n",
       "      <td>6.00</td>\n",
       "      <td>169</td>\n",
       "      <td>4</td>\n",
       "      <td>2.2</td>\n",
       "      <td>74.78</td>\n",
       "      <td>159.8</td>\n",
       "      <td>64</td>\n",
       "      <td>3300</td>\n",
       "      <td>...</td>\n",
       "      <td>0</td>\n",
       "      <td>0</td>\n",
       "      <td>1</td>\n",
       "      <td>0</td>\n",
       "      <td>0</td>\n",
       "      <td>0</td>\n",
       "      <td>0</td>\n",
       "      <td>1</td>\n",
       "      <td>4.3</td>\n",
       "      <td>1</td>\n",
       "    </tr>\n",
       "    <tr>\n",
       "      <th>4</th>\n",
       "      <td>5</td>\n",
       "      <td>396</td>\n",
       "      <td>6.50</td>\n",
       "      <td>175</td>\n",
       "      <td>4</td>\n",
       "      <td>2.2</td>\n",
       "      <td>84.23</td>\n",
       "      <td>160.4</td>\n",
       "      <td>64</td>\n",
       "      <td>3750</td>\n",
       "      <td>...</td>\n",
       "      <td>0</td>\n",
       "      <td>0</td>\n",
       "      <td>0</td>\n",
       "      <td>1</td>\n",
       "      <td>0</td>\n",
       "      <td>0</td>\n",
       "      <td>0</td>\n",
       "      <td>1</td>\n",
       "      <td>4.4</td>\n",
       "      <td>1</td>\n",
       "    </tr>\n",
       "  </tbody>\n",
       "</table>\n",
       "<p>5 rows × 89 columns</p>\n",
       "</div>"
      ],
      "text/plain": [
       "   PhoneId  Pixel Density  Screen Size  Weight  RAM  Processor_frequency  \\\n",
       "0        0            403         6.26     182    4                  1.8   \n",
       "1        1            271         6.20     168    3                  1.8   \n",
       "2        2            409         6.30     168    3                  2.1   \n",
       "3        4            411         6.00     169    4                  2.2   \n",
       "4        5            396         6.50     175    4                  2.2   \n",
       "\n",
       "   Screen to Body Ratio (calculated)  Height  Internal Memory  Capacity  ...  \\\n",
       "0                              80.68   157.9               64      4000  ...   \n",
       "1                              80.85   156.2               32      4230  ...   \n",
       "2                              83.68   157.0               32      3500  ...   \n",
       "3                              74.78   159.8               64      3300  ...   \n",
       "4                              84.23   160.4               64      3750  ...   \n",
       "\n",
       "   os_name_iOS  SIM Slot(s)_Dual SIM, GSM+CDMA  SIM Slot(s)_Dual SIM, GSM+GSM  \\\n",
       "0            0                               0                              0   \n",
       "1            0                               0                              0   \n",
       "2            0                               0                              0   \n",
       "3            0                               0                              1   \n",
       "4            0                               0                              0   \n",
       "\n",
       "   SIM Slot(s)_Dual SIM, GSM+GSM, Dual VoLTE  SIM Slot(s)_Single SIM, GSM  \\\n",
       "0                                          1                            0   \n",
       "1                                          1                            0   \n",
       "2                                          1                            0   \n",
       "3                                          0                            0   \n",
       "4                                          1                            0   \n",
       "\n",
       "   Sim1_2G  Sim1_3G  Sim1_4G  Rating  Class  \n",
       "0        0        0        1     4.5      1  \n",
       "1        0        0        1     4.5      1  \n",
       "2        0        0        1     4.4      1  \n",
       "3        0        0        1     4.3      1  \n",
       "4        0        0        1     4.4      1  \n",
       "\n",
       "[5 rows x 89 columns]"
      ]
     },
     "execution_count": 656,
     "metadata": {},
     "output_type": "execute_result"
    }
   ],
   "source": [
    "df.head()"
   ]
  },
  {
   "cell_type": "code",
   "execution_count": 657,
   "metadata": {},
   "outputs": [
    {
     "data": {
      "text/plain": [
       "0    0.533724\n",
       "1    0.466276\n",
       "Name: Class, dtype: float64"
      ]
     },
     "execution_count": 657,
     "metadata": {},
     "output_type": "execute_result"
    }
   ],
   "source": [
    "df.Class.value_counts(normalize=True)"
   ]
  },
  {
   "cell_type": "code",
   "execution_count": 614,
   "metadata": {},
   "outputs": [],
   "source": [
    "y_binarised = df['Class'].values"
   ]
  },
  {
   "cell_type": "code",
   "execution_count": 615,
   "metadata": {},
   "outputs": [
    {
     "data": {
      "text/plain": [
       "array([1, 1, 1, 1, 1, 1, 1, 0, 1, 1, 1, 0, 1, 1, 1, 1, 1, 1, 1, 1, 1, 1,\n",
       "       1, 1, 1, 1, 1, 1, 1, 1, 0, 1, 1, 1, 1, 1, 1, 1, 0, 0, 1, 1, 1, 1,\n",
       "       1, 1, 0, 1, 0, 1, 1, 0, 1, 1, 0, 1, 1, 0, 1, 1, 1, 1, 1, 0, 1, 1,\n",
       "       0, 1, 1, 0, 1, 0, 0, 1, 0, 1, 1, 0, 1, 1, 1, 1, 1, 0, 0, 1, 1, 0,\n",
       "       1, 1, 1, 0, 0, 1, 1, 1, 0, 0, 0, 1, 1, 1, 1, 1, 0, 1, 1, 1, 1, 1,\n",
       "       1, 0, 0, 1, 1, 1, 1, 1, 0, 1, 0, 0, 1, 1, 0, 0, 0, 1, 1, 0, 0, 0,\n",
       "       1, 1, 1, 1, 0, 0, 0, 0, 0, 0, 1, 0, 0, 1, 0, 1, 0, 0, 1, 0, 0, 1,\n",
       "       1, 0, 0, 0, 0, 0, 1, 1, 0, 0, 1, 1, 0, 1, 0, 0, 1, 0, 1, 0, 0, 1,\n",
       "       0, 0, 0, 0, 0, 0, 0, 0, 0, 0, 0, 1, 0, 0, 0, 0, 0, 1, 0, 0, 0, 0,\n",
       "       1, 0, 0, 0, 1, 0, 0, 0, 0, 0, 0, 0, 1, 0, 1, 1, 0, 0, 1, 1, 0, 0,\n",
       "       1, 1, 1, 1, 1, 0, 1, 0, 0, 1, 1, 0, 1, 0, 1, 0, 1, 0, 0, 1, 1, 0,\n",
       "       0, 1, 0, 0, 0, 0, 0, 1, 0, 1, 0, 1, 0, 1, 0, 1, 0, 0, 0, 1, 0, 0,\n",
       "       0, 0, 0, 1, 0, 0, 0, 0, 0, 1, 1, 0, 0, 1, 0, 0, 0, 0, 0, 1, 0, 0,\n",
       "       0, 1, 0, 0, 0, 0, 0, 1, 0, 0, 0, 0, 0, 0, 0, 0, 0, 0, 0, 0, 1, 0,\n",
       "       0, 0, 0, 0, 0, 1, 1, 0, 0, 0, 0, 0, 0, 1, 1, 1, 0, 0, 1, 0, 0, 0,\n",
       "       0, 1, 0, 0, 0, 1, 0, 0, 0, 0, 1])"
      ]
     },
     "execution_count": 615,
     "metadata": {},
     "output_type": "execute_result"
    }
   ],
   "source": [
    "y_binarised"
   ]
  },
  {
   "cell_type": "markdown",
   "metadata": {},
   "source": [
    "# Split the data "
   ]
  },
  {
   "cell_type": "code",
   "execution_count": 659,
   "metadata": {},
   "outputs": [],
   "source": [
    "x = df.drop(['Rating'], axis = 1)\n",
    "y = df['Rating'].values"
   ]
  },
  {
   "cell_type": "code",
   "execution_count": 660,
   "metadata": {},
   "outputs": [],
   "source": [
    "x_train, x_test, y_train, y_test = train_test_split(x,y, stratify = y_binarised, random_state = 12)"
   ]
  },
  {
   "cell_type": "code",
   "execution_count": 661,
   "metadata": {
    "scrolled": true
   },
   "outputs": [
    {
     "name": "stdout",
     "output_type": "stream",
     "text": [
      "(341, 88) (255, 88) (86, 88) (255,) (86,)\n"
     ]
    }
   ],
   "source": [
    "print(x.shape, x_train.shape, x_test.shape, y_train.shape, y_test.shape)"
   ]
  },
  {
   "cell_type": "markdown",
   "metadata": {},
   "source": [
    "# Scaling the variables"
   ]
  },
  {
   "cell_type": "code",
   "execution_count": 662,
   "metadata": {},
   "outputs": [],
   "source": [
    "sc = StandardScaler()\n",
    "x_scaled_train = sc.fit_transform(x_train)\n",
    "x_scaled_test = sc.transform(x_test)"
   ]
  },
  {
   "cell_type": "code",
   "execution_count": 663,
   "metadata": {},
   "outputs": [],
   "source": [
    "minmax = MinMaxScaler()\n",
    "y_scaled_train = minmax.fit_transform(y_train.reshape(-1,1))\n",
    "y_scaled_test = minmax.transform(y_test.reshape(-1,1))"
   ]
  },
  {
   "cell_type": "code",
   "execution_count": 664,
   "metadata": {},
   "outputs": [
    {
     "data": {
      "text/plain": [
       "4.2"
      ]
     },
     "execution_count": 664,
     "metadata": {},
     "output_type": "execute_result"
    }
   ],
   "source": [
    "threshold"
   ]
  },
  {
   "cell_type": "code",
   "execution_count": 665,
   "metadata": {},
   "outputs": [],
   "source": [
    "scaled_threshold = minmax.transform(np.array([threshold]).reshape(-1,1))[0][0]  # to get only the number, remove array"
   ]
  },
  {
   "cell_type": "code",
   "execution_count": 666,
   "metadata": {},
   "outputs": [
    {
     "data": {
      "text/plain": [
       "0.6800000000000002"
      ]
     },
     "execution_count": 666,
     "metadata": {},
     "output_type": "execute_result"
    }
   ],
   "source": [
    "scaled_threshold"
   ]
  },
  {
   "cell_type": "code",
   "execution_count": 667,
   "metadata": {},
   "outputs": [],
   "source": [
    "y_binarised_train = (y_scaled_train >= scaled_threshold).astype('int').ravel()\n",
    "y_binarised_test = (y_scaled_test >= scaled_threshold).astype('int').ravel()"
   ]
  },
  {
   "cell_type": "code",
   "execution_count": 670,
   "metadata": {},
   "outputs": [
    {
     "data": {
      "text/plain": [
       "array([1, 0, 0, 1, 1, 0, 0, 1, 1, 0, 0, 0, 1, 0, 0, 0, 1, 1, 1, 1, 0, 0,\n",
       "       0, 1, 0, 1, 0, 0, 1, 1, 1, 1, 0, 0, 0, 1, 0, 0, 0, 0, 0, 1, 1, 0,\n",
       "       0, 0, 1, 0, 0, 0, 1, 1, 0, 0, 0, 0, 1, 1, 1, 0, 0, 1, 1, 0, 1, 0,\n",
       "       0, 0, 1, 1, 0, 0, 1, 1, 1, 1, 1, 0, 1, 1, 0, 0, 0, 1, 1, 0, 0, 1,\n",
       "       0, 0, 0, 1, 1, 0, 1, 0, 0, 1, 1, 0, 0, 0, 0, 1, 0, 0, 1, 0, 1, 0,\n",
       "       0, 0, 1, 0, 1, 0, 1, 1, 1, 0, 1, 0, 0, 0, 0, 0, 0, 0, 0, 1, 1, 1,\n",
       "       0, 1, 1, 0, 1, 1, 1, 0, 0, 1, 1, 0, 0, 1, 1, 1, 0, 0, 0, 1, 1, 0,\n",
       "       0, 0, 1, 0, 1, 0, 0, 0, 0, 0, 0, 1, 1, 0, 1, 1, 1, 0, 1, 1, 0, 0,\n",
       "       1, 1, 0, 0, 0, 0, 1, 0, 0, 0, 1, 0, 1, 1, 0, 0, 0, 0, 1, 1, 1, 0,\n",
       "       1, 1, 1, 0, 0, 1, 1, 0, 1, 0, 0, 1, 0, 1, 0, 1, 0, 1, 0, 0, 1, 0,\n",
       "       1, 1, 0, 1, 1, 1, 0, 1, 1, 1, 0, 0, 0, 0, 0, 0, 0, 1, 1, 0, 1, 1,\n",
       "       1, 1, 0, 1, 1, 1, 1, 0, 0, 1, 1, 1, 0])"
      ]
     },
     "execution_count": 670,
     "metadata": {},
     "output_type": "execute_result"
    }
   ],
   "source": [
    "y_binarised_train"
   ]
  },
  {
   "cell_type": "markdown",
   "metadata": {},
   "source": [
    "# Sigmoid Neuron Class"
   ]
  },
  {
   "cell_type": "code",
   "execution_count": 671,
   "metadata": {},
   "outputs": [],
   "source": [
    "class SigmoidNeuron:\n",
    "    def __init__(self):\n",
    "        self.w = None\n",
    "        self.b = None\n",
    "\n",
    "    def perceptron(self,x):\n",
    "        return np.dot(x, self.w.T)+ self.b # transpose\n",
    "\n",
    "    def sigmoid(self,x):\n",
    "        return 1.0/(1.0+ np.exp(-x))\n",
    "\n",
    "    def grad_w(self,x,y):\n",
    "        y_pred = self.sigmoid(self.perceptron(x))\n",
    "        return(y_pred - y)* y_pred * (1-y_pred) * x    #This is the loss function derived from Squared error loss(y-y^)**2 (derivatives)\n",
    "                                                       # Gradient descent algorithm ( Loss function)\n",
    "    def grad_b(self,x,y):\n",
    "        y_pred = self.sigmoid(self.perceptron(x))\n",
    "        return (y_pred - y)* y_pred * (1-y_pred)\n",
    "\n",
    "\n",
    "    def fit(self,x,y, epochs = 1, learning_rate = 1, initialise = True, display_loss=False):\n",
    "        # initialise w,b \n",
    "        if initialise:\n",
    "            self.w = np.random.randn(1, x.shape[1])\n",
    "            self.b = 0\n",
    "\n",
    "        if display_loss:\n",
    "            loss = {}\n",
    "            \n",
    "        for i in tqdm.notebook.tqdm(range(epochs), total = epochs, unit = 'epoch'):   # tqdm is for showing program while we wait to run the code\n",
    "            dw = 0    \n",
    "            db = 0\n",
    "            for x1, y1 in zip(x,y):\n",
    "                dw +=self.grad_w(x1,y1)\n",
    "                db += self.grad_b(x1,y1)\n",
    "            self.w -= learning_rate * dw\n",
    "            self.b -= learning_rate * db \n",
    "\n",
    "            if display_loss:\n",
    "                y_pred = self.sigmoid(self.perceptron(x))\n",
    "                loss[i] = mean_squared_error(y_pred,y)\n",
    "\n",
    "        if display_loss:\n",
    "            plt.plot(list(loss.values()))\n",
    "            plt.xlabel('Epochs')\n",
    "            plt.ylabel('Mean_squared_error')\n",
    "            plt.show()\n",
    "    \n",
    "    def predict(self,x):\n",
    "        y_pred = []\n",
    "        for x1 in x:\n",
    "            y = self.sigmoid(self.perceptron(x1))\n",
    "            y_pred.append(y)\n",
    "        return np.array(y_pred)"
   ]
  },
  {
   "cell_type": "code",
   "execution_count": 673,
   "metadata": {
    "scrolled": true
   },
   "outputs": [
    {
     "data": {
      "application/vnd.jupyter.widget-view+json": {
       "model_id": "51fc2f3ff76448d3843574e77ef1560d",
       "version_major": 2,
       "version_minor": 0
      },
      "text/plain": [
       "HBox(children=(FloatProgress(value=0.0, max=2000.0), HTML(value='')))"
      ]
     },
     "metadata": {},
     "output_type": "display_data"
    },
    {
     "name": "stdout",
     "output_type": "stream",
     "text": [
      "\n"
     ]
    },
    {
     "data": {
      "image/png": "[encoded data removed]",
      "text/plain": [
       "<Figure size 432x288 with 1 Axes>"
      ]
     },
     "metadata": {
      "needs_background": "light"
     },
     "output_type": "display_data"
    }
   ],
   "source": [
    "sn = SigmoidNeuron()\n",
    "sn.fit(x_scaled_train, y_scaled_train, epochs = 2000, learning_rate = 0.015, display_loss = True)"
   ]
  },
  {
   "cell_type": "code",
   "execution_count": 674,
   "metadata": {},
   "outputs": [],
   "source": [
    "y_pred_train = sn.predict(x_scaled_train)\n",
    "y_pred_test = sn.predict(x_scaled_test)"
   ]
  },
  {
   "cell_type": "code",
   "execution_count": 675,
   "metadata": {},
   "outputs": [
    {
     "data": {
      "text/plain": [
       "array([[7.18434496e-01],\n",
       "       [9.99995594e-01],\n",
       "       [3.75038456e-01],\n",
       "       [7.92143341e-01],\n",
       "       [7.78869573e-01],\n",
       "       [5.95966622e-01],\n",
       "       [3.74793612e-01],\n",
       "       [7.19836254e-01],\n",
       "       [9.95329679e-01],\n",
       "       [5.68013787e-01],\n",
       "       [5.64890933e-01],\n",
       "       [5.95476373e-01],\n",
       "       [7.22138324e-01],\n",
       "       [5.28058324e-01],\n",
       "       [5.84834573e-01],\n",
       "       [5.18016981e-01],\n",
       "       [7.15039898e-01],\n",
       "       [9.96584234e-01],\n",
       "       [8.04721783e-01],\n",
       "       [8.84527926e-01],\n",
       "       [5.64599178e-01],\n",
       "       [6.06294414e-01],\n",
       "       [5.25158987e-01],\n",
       "       [7.90600567e-01],\n",
       "       [5.31900062e-01],\n",
       "       [7.53778093e-01],\n",
       "       [5.95994416e-01],\n",
       "       [5.44573354e-01],\n",
       "       [7.44457395e-01],\n",
       "       [7.86715264e-01],\n",
       "       [7.53031495e-01],\n",
       "       [7.21728811e-01],\n",
       "       [9.15497003e-05],\n",
       "       [1.12555917e-04],\n",
       "       [5.41718000e-01],\n",
       "       [6.58093178e-01],\n",
       "       [5.01697649e-01],\n",
       "       [6.37818150e-01],\n",
       "       [6.22496300e-01],\n",
       "       [5.93065168e-01],\n",
       "       [6.18231640e-01],\n",
       "       [7.17902971e-01],\n",
       "       [1.23819865e-04],\n",
       "       [2.50231347e-11],\n",
       "       [5.41515987e-01],\n",
       "       [4.66852007e-01],\n",
       "       [7.39407159e-01],\n",
       "       [9.99999964e-01],\n",
       "       [4.85774413e-01],\n",
       "       [9.99996067e-01],\n",
       "       [7.23259577e-01],\n",
       "       [7.40102690e-01],\n",
       "       [5.77852005e-01],\n",
       "       [4.88924979e-01],\n",
       "       [6.24855986e-16],\n",
       "       [5.69919721e-01],\n",
       "       [7.89060408e-01],\n",
       "       [7.31973289e-01],\n",
       "       [7.83925950e-01],\n",
       "       [9.99998304e-01],\n",
       "       [5.55784970e-01],\n",
       "       [6.36711843e-01],\n",
       "       [7.30748619e-01],\n",
       "       [5.01707433e-01],\n",
       "       [9.98685086e-01],\n",
       "       [1.99918818e-01],\n",
       "       [6.03035785e-01],\n",
       "       [4.54591975e-01],\n",
       "       [9.98244765e-01],\n",
       "       [1.12305029e-04],\n",
       "       [5.84905719e-01],\n",
       "       [5.41668972e-01],\n",
       "       [7.39281073e-01],\n",
       "       [7.28091401e-01],\n",
       "       [7.31132227e-01],\n",
       "       [7.48191628e-01],\n",
       "       [7.20946441e-01],\n",
       "       [5.60926629e-01],\n",
       "       [7.66653597e-01],\n",
       "       [7.63440388e-01],\n",
       "       [5.81382494e-01],\n",
       "       [5.69924046e-01],\n",
       "       [3.24004341e-08],\n",
       "       [7.29609377e-01],\n",
       "       [7.27866850e-01],\n",
       "       [3.99667591e-01],\n",
       "       [5.49055209e-01],\n",
       "       [7.35560160e-01],\n",
       "       [1.58607397e-07],\n",
       "       [5.68070861e-01],\n",
       "       [1.99836183e-29],\n",
       "       [7.68522670e-01],\n",
       "       [9.99997405e-01],\n",
       "       [5.38290607e-01],\n",
       "       [7.78120547e-01],\n",
       "       [5.37474526e-01],\n",
       "       [5.81789329e-01],\n",
       "       [7.93253301e-01],\n",
       "       [6.85571623e-01],\n",
       "       [6.31276137e-01],\n",
       "       [1.44412499e-04],\n",
       "       [2.68038209e-01],\n",
       "       [5.13894544e-01],\n",
       "       [7.03687529e-01],\n",
       "       [5.25776441e-01],\n",
       "       [5.65680801e-01],\n",
       "       [6.98458730e-01],\n",
       "       [6.13487428e-01],\n",
       "       [7.65741305e-01],\n",
       "       [5.49295604e-01],\n",
       "       [4.24770448e-01],\n",
       "       [5.20656786e-01],\n",
       "       [7.31504842e-01],\n",
       "       [5.42320418e-01],\n",
       "       [6.82152480e-01],\n",
       "       [5.89484336e-01],\n",
       "       [7.24669450e-01],\n",
       "       [7.65690784e-01],\n",
       "       [7.87503567e-01],\n",
       "       [6.23282831e-01],\n",
       "       [7.23914952e-01],\n",
       "       [5.88360835e-01],\n",
       "       [6.45442027e-01],\n",
       "       [6.39925932e-01],\n",
       "       [4.13823988e-01],\n",
       "       [5.78943798e-01],\n",
       "       [5.56054606e-01],\n",
       "       [3.98571433e-01],\n",
       "       [5.86044201e-01],\n",
       "       [7.89197704e-01],\n",
       "       [7.68082784e-01],\n",
       "       [7.22479949e-01],\n",
       "       [5.44518420e-01],\n",
       "       [7.46605371e-01],\n",
       "       [7.20788097e-01],\n",
       "       [5.25526852e-01],\n",
       "       [7.45152080e-01],\n",
       "       [7.65445511e-01],\n",
       "       [7.18377639e-01],\n",
       "       [3.85085722e-01],\n",
       "       [1.14545868e-02],\n",
       "       [9.98842299e-01],\n",
       "       [7.11289478e-01],\n",
       "       [5.02009250e-01],\n",
       "       [6.37994642e-01],\n",
       "       [7.30734737e-01],\n",
       "       [8.04802283e-01],\n",
       "       [7.56984394e-01],\n",
       "       [9.99998092e-01],\n",
       "       [6.05938995e-01],\n",
       "       [4.02057371e-01],\n",
       "       [7.53433750e-01],\n",
       "       [8.16246796e-01],\n",
       "       [5.66958979e-01],\n",
       "       [5.86081896e-01],\n",
       "       [6.26799228e-01],\n",
       "       [7.40015087e-01],\n",
       "       [6.01080978e-01],\n",
       "       [7.57850096e-01],\n",
       "       [5.51135788e-01],\n",
       "       [5.75912857e-01],\n",
       "       [3.25106633e-01],\n",
       "       [2.86523622e-01],\n",
       "       [5.51827079e-01],\n",
       "       [6.26542894e-01],\n",
       "       [7.90951811e-01],\n",
       "       [7.20291405e-01],\n",
       "       [4.38927167e-01],\n",
       "       [8.06915157e-01],\n",
       "       [7.64747454e-01],\n",
       "       [9.98052339e-01],\n",
       "       [5.27509368e-01],\n",
       "       [7.35077576e-01],\n",
       "       [7.79307975e-01],\n",
       "       [6.37977592e-01],\n",
       "       [5.08533489e-01],\n",
       "       [9.09411023e-01],\n",
       "       [7.50835033e-01],\n",
       "       [5.71535118e-08],\n",
       "       [3.89103654e-01],\n",
       "       [4.84379655e-01],\n",
       "       [5.52797170e-01],\n",
       "       [7.19931212e-01],\n",
       "       [6.10775498e-01],\n",
       "       [3.85581297e-01],\n",
       "       [5.15555149e-01],\n",
       "       [7.14857792e-01],\n",
       "       [1.00000000e+00],\n",
       "       [7.09478714e-01],\n",
       "       [7.18079339e-01],\n",
       "       [6.09682161e-01],\n",
       "       [5.18035344e-01],\n",
       "       [5.49050225e-01],\n",
       "       [4.06982871e-01],\n",
       "       [7.16950012e-01],\n",
       "       [7.21442057e-01],\n",
       "       [7.56746316e-01],\n",
       "       [4.79157357e-10],\n",
       "       [7.80381967e-01],\n",
       "       [7.02008740e-01],\n",
       "       [7.53995896e-01],\n",
       "       [5.65814401e-01],\n",
       "       [4.96452581e-01],\n",
       "       [7.12770420e-01],\n",
       "       [7.41927409e-01],\n",
       "       [3.59764586e-22],\n",
       "       [6.89197850e-01],\n",
       "       [4.01553431e-01],\n",
       "       [5.57440338e-01],\n",
       "       [7.17147685e-01],\n",
       "       [9.99935706e-01],\n",
       "       [7.60325861e-01],\n",
       "       [5.29132912e-01],\n",
       "       [6.93920473e-01],\n",
       "       [1.48279575e-05],\n",
       "       [1.03286014e-04],\n",
       "       [5.14433338e-01],\n",
       "       [3.88275634e-01],\n",
       "       [8.03126741e-01],\n",
       "       [3.59953794e-01],\n",
       "       [7.26285069e-01],\n",
       "       [7.86766000e-01],\n",
       "       [5.88793778e-01],\n",
       "       [9.99998947e-01],\n",
       "       [7.67579718e-01],\n",
       "       [7.50351442e-01],\n",
       "       [4.87862496e-01],\n",
       "       [7.28274282e-01],\n",
       "       [7.78333293e-01],\n",
       "       [7.47761795e-01],\n",
       "       [6.22891557e-01],\n",
       "       [6.11356532e-01],\n",
       "       [6.00530204e-01],\n",
       "       [5.81340917e-01],\n",
       "       [5.71082002e-01],\n",
       "       [4.98418110e-01],\n",
       "       [5.51909433e-01],\n",
       "       [6.62652963e-01],\n",
       "       [7.40017167e-01],\n",
       "       [5.43664398e-01],\n",
       "       [7.38895921e-01],\n",
       "       [7.74117792e-01],\n",
       "       [7.39451656e-01],\n",
       "       [7.12223549e-01],\n",
       "       [6.00266160e-01],\n",
       "       [7.47870393e-01],\n",
       "       [7.51764910e-01],\n",
       "       [7.24578634e-01],\n",
       "       [7.88004374e-01],\n",
       "       [5.08567605e-01],\n",
       "       [5.99887946e-01],\n",
       "       [7.95731504e-01],\n",
       "       [7.46131748e-01],\n",
       "       [7.59431524e-01],\n",
       "       [5.46165673e-01]])"
      ]
     },
     "execution_count": 675,
     "metadata": {},
     "output_type": "execute_result"
    }
   ],
   "source": [
    "y_pred_train"
   ]
  },
  {
   "cell_type": "code",
   "execution_count": 676,
   "metadata": {},
   "outputs": [],
   "source": [
    "y_pred_binarised_train = (y_pred_train > scaled_threshold).astype('int').ravel()\n",
    "y_pred_binarised_test = (y_pred_test > scaled_threshold).astype('int').ravel()"
   ]
  },
  {
   "cell_type": "code",
   "execution_count": 677,
   "metadata": {},
   "outputs": [],
   "source": [
    "accuracy_train =  metrics.accuracy_score(y_pred_binarised_train, y_binarised_train)\n",
    "accuracy_test =  metrics.accuracy_score(y_pred_binarised_test, y_binarised_test)"
   ]
  },
  {
   "cell_type": "code",
   "execution_count": 678,
   "metadata": {},
   "outputs": [
    {
     "name": "stdout",
     "output_type": "stream",
     "text": [
      "0.9490196078431372 0.9186046511627907\n"
     ]
    }
   ],
   "source": [
    "print(accuracy_train, accuracy_test)"
   ]
  },
  {
   "cell_type": "markdown",
   "metadata": {},
   "source": [
    "> Now we got the good test accuracy"
   ]
  }
 ],
 "metadata": {
  "kernelspec": {
   "display_name": "Python 3",
   "language": "python",
   "name": "python3"
  },
  "language_info": {
   "codemirror_mode": {
    "name": "ipython",
    "version": 3
   },
   "file_extension": ".py",
   "mimetype": "text/x-python",
   "name": "python",
   "nbconvert_exporter": "python",
   "pygments_lexer": "ipython3",
   "version": "3.7.6"
  }
 },
 "nbformat": 4,
 "nbformat_minor": 4
}
